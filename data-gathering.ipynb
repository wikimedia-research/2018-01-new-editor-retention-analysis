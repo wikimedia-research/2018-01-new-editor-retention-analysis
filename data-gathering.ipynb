{
 "cells": [
  {
   "cell_type": "code",
   "execution_count": 39,
   "metadata": {},
   "outputs": [],
   "source": [
    "import wmfdata as wmf"
   ]
  },
  {
   "cell_type": "code",
   "execution_count": 40,
   "metadata": {},
   "outputs": [],
   "source": [
    "def read_file(path):\n",
    "    with open(path, 'r') as f:\n",
    "        return f.read()"
   ]
  },
  {
   "cell_type": "markdown",
   "metadata": {},
   "source": [
    "# Analytics Data Lake\n",
    "\n",
    "Data from the usual data source."
   ]
  },
  {
   "cell_type": "code",
   "execution_count": 55,
   "metadata": {},
   "outputs": [
    {
     "data": {
      "text/html": [
       "<div>\n",
       "<table border=\"1\" class=\"dataframe\">\n",
       "  <thead>\n",
       "    <tr style=\"text-align: right;\">\n",
       "      <th></th>\n",
       "      <th>reg_mo</th>\n",
       "      <th>new_eds</th>\n",
       "      <th>ret</th>\n",
       "    </tr>\n",
       "  </thead>\n",
       "  <tbody>\n",
       "    <tr>\n",
       "      <th>0</th>\n",
       "      <td>2001-01</td>\n",
       "      <td>6</td>\n",
       "      <td>0.500000</td>\n",
       "    </tr>\n",
       "    <tr>\n",
       "      <th>1</th>\n",
       "      <td>2001-02</td>\n",
       "      <td>5</td>\n",
       "      <td>0.600000</td>\n",
       "    </tr>\n",
       "    <tr>\n",
       "      <th>2</th>\n",
       "      <td>2001-03</td>\n",
       "      <td>13</td>\n",
       "      <td>0.538462</td>\n",
       "    </tr>\n",
       "    <tr>\n",
       "      <th>3</th>\n",
       "      <td>2001-04</td>\n",
       "      <td>11</td>\n",
       "      <td>0.272727</td>\n",
       "    </tr>\n",
       "    <tr>\n",
       "      <th>4</th>\n",
       "      <td>2001-05</td>\n",
       "      <td>13</td>\n",
       "      <td>0.615385</td>\n",
       "    </tr>\n",
       "  </tbody>\n",
       "</table>\n",
       "</div>"
      ],
      "text/plain": [
       "    reg_mo  new_eds       ret\n",
       "0  2001-01        6  0.500000\n",
       "1  2001-02        5  0.600000\n",
       "2  2001-03       13  0.538462\n",
       "3  2001-04       11  0.272727\n",
       "4  2001-05       13  0.615385"
      ]
     },
     "execution_count": 55,
     "metadata": {},
     "output_type": "execute_result"
    }
   ],
   "source": [
    "glob_ret = wmf.hive.run(\n",
    "    \"\"\"\n",
    "    select \n",
    "        cohort as reg_mo,\n",
    "        count(*) as new_eds,\n",
    "        (sum(if(2nd_month_edits >= 1, 1, 0)) / sum(if(1st_month_edits >= 1, 1, 0))) as ret \n",
    "    from neilpquinn.new_editors\n",
    "    group by cohort\n",
    "    order by cohort asc\n",
    "    limit 10000\n",
    "    \"\"\"\n",
    ")\n",
    "\n",
    "glob_ret.head()"
   ]
  },
  {
   "cell_type": "code",
   "execution_count": 56,
   "metadata": {},
   "outputs": [],
   "source": [
    "glob_ret.to_csv(\"data/adl_global_monthly_retention.tsv\", sep = \"\\t\", index = False)"
   ]
  },
  {
   "cell_type": "code",
   "execution_count": 57,
   "metadata": {},
   "outputs": [],
   "source": [
    "proj_ret = wmf.hive.run(\n",
    "    \"\"\"\n",
    "    select \n",
    "        wiki,\n",
    "        cohort as reg_mo,\n",
    "        count(*) as new_eds,\n",
    "        (sum(if(2nd_month_edits >= 1, 1, 0)) / sum(if(1st_month_edits >= 1, 1, 0))) as ret\n",
    "    from neilpquinn.new_editors\n",
    "    group by wiki, cohort\n",
    "    order by wiki, cohort asc\n",
    "    limit 250000\n",
    "    \"\"\"\n",
    ")"
   ]
  },
  {
   "cell_type": "code",
   "execution_count": 58,
   "metadata": {},
   "outputs": [
    {
     "data": {
      "text/html": [
       "<div>\n",
       "<table border=\"1\" class=\"dataframe\">\n",
       "  <thead>\n",
       "    <tr style=\"text-align: right;\">\n",
       "      <th></th>\n",
       "      <th>wiki</th>\n",
       "      <th>reg_mo</th>\n",
       "      <th>new_eds</th>\n",
       "      <th>ret</th>\n",
       "    </tr>\n",
       "  </thead>\n",
       "  <tbody>\n",
       "    <tr>\n",
       "      <th>0</th>\n",
       "      <td>abwiki</td>\n",
       "      <td>2004-01</td>\n",
       "      <td>1</td>\n",
       "      <td>0.0</td>\n",
       "    </tr>\n",
       "    <tr>\n",
       "      <th>1</th>\n",
       "      <td>abwiki</td>\n",
       "      <td>2004-08</td>\n",
       "      <td>1</td>\n",
       "      <td>0.0</td>\n",
       "    </tr>\n",
       "    <tr>\n",
       "      <th>2</th>\n",
       "      <td>abwiki</td>\n",
       "      <td>2004-11</td>\n",
       "      <td>2</td>\n",
       "      <td>0.0</td>\n",
       "    </tr>\n",
       "    <tr>\n",
       "      <th>3</th>\n",
       "      <td>abwiki</td>\n",
       "      <td>2004-12</td>\n",
       "      <td>2</td>\n",
       "      <td>0.5</td>\n",
       "    </tr>\n",
       "    <tr>\n",
       "      <th>4</th>\n",
       "      <td>abwiki</td>\n",
       "      <td>2005-01</td>\n",
       "      <td>1</td>\n",
       "      <td>0.0</td>\n",
       "    </tr>\n",
       "  </tbody>\n",
       "</table>\n",
       "</div>"
      ],
      "text/plain": [
       "     wiki   reg_mo  new_eds  ret\n",
       "0  abwiki  2004-01        1  0.0\n",
       "1  abwiki  2004-08        1  0.0\n",
       "2  abwiki  2004-11        2  0.0\n",
       "3  abwiki  2004-12        2  0.5\n",
       "4  abwiki  2005-01        1  0.0"
      ]
     },
     "execution_count": 58,
     "metadata": {},
     "output_type": "execute_result"
    }
   ],
   "source": [
    "proj_ret.head()"
   ]
  },
  {
   "cell_type": "code",
   "execution_count": 59,
   "metadata": {},
   "outputs": [],
   "source": [
    "proj_ret.to_csv(\"data/adl_project_monthly_retention.tsv\", sep = \"\\t\", index = False)"
   ]
  },
  {
   "cell_type": "code",
   "execution_count": 44,
   "metadata": {},
   "outputs": [
    {
     "data": {
      "text/html": [
       "<div>\n",
       "<table border=\"1\" class=\"dataframe\">\n",
       "  <thead>\n",
       "    <tr style=\"text-align: right;\">\n",
       "      <th></th>\n",
       "      <th>user</th>\n",
       "      <th>reg_day</th>\n",
       "      <th>mo_1_revs</th>\n",
       "      <th>mo_2_revs</th>\n",
       "      <th>mo_1_reverts</th>\n",
       "      <th>mo_2_reverts</th>\n",
       "    </tr>\n",
       "  </thead>\n",
       "  <tbody>\n",
       "    <tr>\n",
       "      <th>0</th>\n",
       "      <td>!!Ethereal!!</td>\n",
       "      <td>2018-02-06</td>\n",
       "      <td>2</td>\n",
       "      <td>0</td>\n",
       "      <td>0</td>\n",
       "      <td>0</td>\n",
       "    </tr>\n",
       "    <tr>\n",
       "      <th>1</th>\n",
       "      <td>!!Hûm Såfår!!</td>\n",
       "      <td>2017-02-23</td>\n",
       "      <td>4</td>\n",
       "      <td>0</td>\n",
       "      <td>1</td>\n",
       "      <td>0</td>\n",
       "    </tr>\n",
       "    <tr>\n",
       "      <th>2</th>\n",
       "      <td>!.Jimiey.!</td>\n",
       "      <td>2016-12-17</td>\n",
       "      <td>2</td>\n",
       "      <td>0</td>\n",
       "      <td>2</td>\n",
       "      <td>0</td>\n",
       "    </tr>\n",
       "    <tr>\n",
       "      <th>3</th>\n",
       "      <td>!0Clarke</td>\n",
       "      <td>2018-01-06</td>\n",
       "      <td>3</td>\n",
       "      <td>0</td>\n",
       "      <td>1</td>\n",
       "      <td>0</td>\n",
       "    </tr>\n",
       "    <tr>\n",
       "      <th>4</th>\n",
       "      <td>!0MinutesADay</td>\n",
       "      <td>2017-11-17</td>\n",
       "      <td>1</td>\n",
       "      <td>0</td>\n",
       "      <td>0</td>\n",
       "      <td>0</td>\n",
       "    </tr>\n",
       "  </tbody>\n",
       "</table>\n",
       "</div>"
      ],
      "text/plain": [
       "            user     reg_day  mo_1_revs  mo_2_revs  mo_1_reverts  mo_2_reverts\n",
       "0   !!Ethereal!!  2018-02-06          2          0             0             0\n",
       "1  !!Hûm Såfår!!  2017-02-23          4          0             1             0\n",
       "2     !.Jimiey.!  2016-12-17          2          0             2             0\n",
       "3       !0Clarke  2018-01-06          3          0             1             0\n",
       "4  !0MinutesADay  2017-11-17          1          0             0             0"
      ]
     },
     "execution_count": 44,
     "metadata": {},
     "output_type": "execute_result"
    }
   ],
   "source": [
    "adl_en_new = wmf.hive.run(\n",
    "    read_file(\"queries/adl_enwiki_new_editors.sql\").format(\n",
    "        start = \"2016-12\",\n",
    "        end = \"2018-03\",\n",
    "        snapshot = \"2018-04\"\n",
    "    )\n",
    ")\n",
    "\n",
    "adl_en_new.head()"
   ]
  },
  {
   "cell_type": "code",
   "execution_count": 47,
   "metadata": {},
   "outputs": [],
   "source": [
    "adl_en_new.to_csv(\"data/adl_enwiki_new_editors.tsv\", sep = \"\\t\", index = False)"
   ]
  },
  {
   "cell_type": "markdown",
   "metadata": {},
   "source": [
    "# MariaDB application tables\n",
    "Raw data for comparison"
   ]
  },
  {
   "cell_type": "code",
   "execution_count": null,
   "metadata": {
    "scrolled": true
   },
   "outputs": [],
   "source": [
    "mdb_en_new_revs = wmf.mariadb.run(\n",
    "    read_file('queries/mdb_enwiki_new_editor_revisions.sql')\n",
    ")\n",
    "\n",
    "mdb_en_new_revs.head()"
   ]
  },
  {
   "cell_type": "code",
   "execution_count": 53,
   "metadata": {},
   "outputs": [
    {
     "data": {
      "text/html": [
       "<div>\n",
       "<table border=\"1\" class=\"dataframe\">\n",
       "  <thead>\n",
       "    <tr style=\"text-align: right;\">\n",
       "      <th></th>\n",
       "      <th>name</th>\n",
       "      <th>rev_id</th>\n",
       "      <th>reg_dt</th>\n",
       "      <th>rev_dt</th>\n",
       "      <th>mob</th>\n",
       "      <th>ve</th>\n",
       "    </tr>\n",
       "  </thead>\n",
       "  <tbody>\n",
       "    <tr>\n",
       "      <th>0</th>\n",
       "      <td>HappyPaige627</td>\n",
       "      <td>752388509</td>\n",
       "      <td>2016-12-01 00:00:15</td>\n",
       "      <td>2016-12-01 00:01:48</td>\n",
       "      <td>0</td>\n",
       "      <td>0</td>\n",
       "    </tr>\n",
       "    <tr>\n",
       "      <th>1</th>\n",
       "      <td>Toppu Kaeru</td>\n",
       "      <td>752389022</td>\n",
       "      <td>2016-12-01 00:01:09</td>\n",
       "      <td>2016-12-01 00:04:02</td>\n",
       "      <td>0</td>\n",
       "      <td>0</td>\n",
       "    </tr>\n",
       "    <tr>\n",
       "      <th>2</th>\n",
       "      <td>GAdams</td>\n",
       "      <td>752389051</td>\n",
       "      <td>2016-12-01 00:03:08</td>\n",
       "      <td>2016-12-01 00:04:09</td>\n",
       "      <td>1</td>\n",
       "      <td>0</td>\n",
       "    </tr>\n",
       "    <tr>\n",
       "      <th>3</th>\n",
       "      <td>Albitr</td>\n",
       "      <td>752389167</td>\n",
       "      <td>2016-12-01 00:00:34</td>\n",
       "      <td>2016-12-01 00:04:44</td>\n",
       "      <td>0</td>\n",
       "      <td>1</td>\n",
       "    </tr>\n",
       "    <tr>\n",
       "      <th>4</th>\n",
       "      <td>Ltclaws</td>\n",
       "      <td>752390193</td>\n",
       "      <td>2016-12-01 00:02:26</td>\n",
       "      <td>2016-12-01 00:09:38</td>\n",
       "      <td>0</td>\n",
       "      <td>1</td>\n",
       "    </tr>\n",
       "  </tbody>\n",
       "</table>\n",
       "</div>"
      ],
      "text/plain": [
       "            name     rev_id              reg_dt              rev_dt  mob  ve\n",
       "0  HappyPaige627  752388509 2016-12-01 00:00:15 2016-12-01 00:01:48    0   0\n",
       "1    Toppu Kaeru  752389022 2016-12-01 00:01:09 2016-12-01 00:04:02    0   0\n",
       "2         GAdams  752389051 2016-12-01 00:03:08 2016-12-01 00:04:09    1   0\n",
       "3         Albitr  752389167 2016-12-01 00:00:34 2016-12-01 00:04:44    0   1\n",
       "4        Ltclaws  752390193 2016-12-01 00:02:26 2016-12-01 00:09:38    0   1"
      ]
     },
     "execution_count": 53,
     "metadata": {},
     "output_type": "execute_result"
    }
   ],
   "source": [
    "mdb_en_new_revs.head()"
   ]
  },
  {
   "cell_type": "code",
   "execution_count": 54,
   "metadata": {},
   "outputs": [],
   "source": [
    "mdb_en_new_revs.to_csv(\"data/mdb_enwiki_new_editor_revisions.tsv\", index = False, sep = \"\\t\")"
   ]
  }
 ],
 "metadata": {
  "kernelspec": {
   "display_name": "Python 3",
   "language": "python",
   "name": "python3"
  },
  "language_info": {
   "codemirror_mode": {
    "name": "ipython",
    "version": 3
   },
   "file_extension": ".py",
   "mimetype": "text/x-python",
   "name": "python",
   "nbconvert_exporter": "python",
   "pygments_lexer": "ipython3",
   "version": "3.5.3"
  }
 },
 "nbformat": 4,
 "nbformat_minor": 2
}
