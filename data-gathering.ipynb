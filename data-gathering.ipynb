{
 "cells": [
  {
   "cell_type": "code",
   "execution_count": 2,
   "metadata": {},
   "outputs": [
    {
     "name": "stderr",
     "output_type": "stream",
     "text": [
      "You can find the source for `wmfdata` at https://github.com/neilpquinn/wmfdata\n"
     ]
    }
   ],
   "source": [
    "import wmfdata as wmf"
   ]
  },
  {
   "cell_type": "code",
   "execution_count": 10,
   "metadata": {},
   "outputs": [],
   "source": [
    "def read_file(path):\n",
    "    with open(path, 'r') as f:\n",
    "        return f.read()"
   ]
  },
  {
   "cell_type": "markdown",
   "metadata": {},
   "source": [
    "# Analytics Data Lake\n",
    "\n",
    "Data from the usual data source."
   ]
  },
  {
   "cell_type": "code",
   "execution_count": null,
   "metadata": {},
   "outputs": [],
   "source": [
    "glob_ret = wmf.query.hive(\n",
    "    \"\"\"\n",
    "    select \n",
    "        cohort,\n",
    "        count(*) as new_eds,\n",
    "        (sum(if(2nd_month_edits >= 1, 1, 0)) / sum(if(1st_month_edits >= 1, 1, 0))) as ret \n",
    "    from neilpquinn.new_editors\n",
    "    where cohort >= \"2014-04\"\n",
    "    group by cohort\n",
    "    order by cohort asc\n",
    "    limit 1000\n",
    "    \"\"\"\n",
    ")\n",
    "\n",
    "glob_ret"
   ]
  },
  {
   "cell_type": "code",
   "execution_count": null,
   "metadata": {},
   "outputs": [],
   "source": [
    "glob_ret.to_csv(\"data/adl_global_monthly_retention.tsv\", sep = \"\\t\", index = False)"
   ]
  },
  {
   "cell_type": "code",
   "execution_count": null,
   "metadata": {},
   "outputs": [],
   "source": [
    "proj_ret = run_hive(\n",
    "    \"\"\"\n",
    "    select \n",
    "        wiki,\n",
    "        cohort,\n",
    "        count(*) as new_eds,\n",
    "        (sum(if(2nd_month_edits >= 1, 1, 0)) / sum(if(1st_month_edits >= 1, 1, 0))) as retention\n",
    "    from neilpquinn.new_editors\n",
    "    where cohort >= \"2017-01\"\n",
    "    group by wiki, cohort\n",
    "    order by wiki, cohort asc\n",
    "    limit 20000\n",
    "    \"\"\"\n",
    ")\n",
    "\n",
    "proj_ret"
   ]
  },
  {
   "cell_type": "code",
   "execution_count": null,
   "metadata": {},
   "outputs": [],
   "source": [
    "proj_ret.to_csv(\"data/adl_project_monthly_retention.tsv\", sep = \"\\t\", index = False)"
   ]
  },
  {
   "cell_type": "code",
   "execution_count": 16,
   "metadata": {},
   "outputs": [
    {
     "data": {
      "text/html": [
       "<div>\n",
       "<table border=\"1\" class=\"dataframe\">\n",
       "  <thead>\n",
       "    <tr style=\"text-align: right;\">\n",
       "      <th></th>\n",
       "      <th>user</th>\n",
       "      <th>reg_day</th>\n",
       "      <th>mo_1_revs</th>\n",
       "      <th>mo_2_revs</th>\n",
       "      <th>mo_1_reverts</th>\n",
       "      <th>mo_2_reverts</th>\n",
       "    </tr>\n",
       "  </thead>\n",
       "  <tbody>\n",
       "    <tr>\n",
       "      <th>0</th>\n",
       "      <td>!!Hûm Såfår!!</td>\n",
       "      <td>2017-02-23</td>\n",
       "      <td>2</td>\n",
       "      <td>0</td>\n",
       "      <td>1</td>\n",
       "      <td>0</td>\n",
       "    </tr>\n",
       "    <tr>\n",
       "      <th>1</th>\n",
       "      <td>!.Jimiey.!</td>\n",
       "      <td>2016-12-17</td>\n",
       "      <td>2</td>\n",
       "      <td>0</td>\n",
       "      <td>2</td>\n",
       "      <td>0</td>\n",
       "    </tr>\n",
       "    <tr>\n",
       "      <th>2</th>\n",
       "      <td>!0Clarke</td>\n",
       "      <td>2018-01-06</td>\n",
       "      <td>3</td>\n",
       "      <td>0</td>\n",
       "      <td>1</td>\n",
       "      <td>0</td>\n",
       "    </tr>\n",
       "    <tr>\n",
       "      <th>3</th>\n",
       "      <td>!0MinutesADay</td>\n",
       "      <td>2017-11-17</td>\n",
       "      <td>1</td>\n",
       "      <td>0</td>\n",
       "      <td>0</td>\n",
       "      <td>0</td>\n",
       "    </tr>\n",
       "    <tr>\n",
       "      <th>4</th>\n",
       "      <td>!23455666A!wee</td>\n",
       "      <td>2017-06-29</td>\n",
       "      <td>2</td>\n",
       "      <td>0</td>\n",
       "      <td>0</td>\n",
       "      <td>0</td>\n",
       "    </tr>\n",
       "  </tbody>\n",
       "</table>\n",
       "</div>"
      ],
      "text/plain": [
       "             user     reg_day  mo_1_revs  mo_2_revs  mo_1_reverts  \\\n",
       "0   !!Hûm Såfår!!  2017-02-23          2          0             1   \n",
       "1      !.Jimiey.!  2016-12-17          2          0             2   \n",
       "2        !0Clarke  2018-01-06          3          0             1   \n",
       "3   !0MinutesADay  2017-11-17          1          0             0   \n",
       "4  !23455666A!wee  2017-06-29          2          0             0   \n",
       "\n",
       "   mo_2_reverts  \n",
       "0             0  \n",
       "1             0  \n",
       "2             0  \n",
       "3             0  \n",
       "4             0  "
      ]
     },
     "execution_count": 16,
     "metadata": {},
     "output_type": "execute_result"
    }
   ],
   "source": [
    "adl_en_new = wmf.hive.run(\n",
    "    read_file(\"queries/adl_enwiki_new_eds.sql\").format(\n",
    "        start = \"2016-12\",\n",
    "        end = \"2018-02\",\n",
    "        snapshot = \"2018-03\"\n",
    "    )\n",
    ")\n",
    "\n",
    "adl_en_new.head()"
   ]
  },
  {
   "cell_type": "code",
   "execution_count": 19,
   "metadata": {},
   "outputs": [],
   "source": [
    "adl_en_new.to_csv(\"data/adl_enwiki_new_eds.tsv\", sep = \"\\t\", index = False)"
   ]
  },
  {
   "cell_type": "markdown",
   "metadata": {},
   "source": [
    "# MariaDB application tables\n",
    "Raw data for comparison"
   ]
  },
  {
   "cell_type": "code",
   "execution_count": null,
   "metadata": {},
   "outputs": [],
   "source": [
    "mdb_en_new_revs = wmf.mariadb.run(\n",
    "    read_file('queries/mdb_enwiki_new_editor_revisions.sql')\n",
    ")\n",
    "\n",
    "mbd_en_new_revs.head()"
   ]
  },
  {
   "cell_type": "code",
   "execution_count": 9,
   "metadata": {},
   "outputs": [],
   "source": [
    "enwiki_new_revs.to_csv(\"data/mdb_enwiki_new_ed_revisions.tsv\", index = False, sep = \"\\t\")"
   ]
  }
 ],
 "metadata": {
  "kernelspec": {
   "display_name": "Python 3",
   "language": "python",
   "name": "python3"
  },
  "language_info": {
   "codemirror_mode": {
    "name": "ipython",
    "version": 3
   },
   "file_extension": ".py",
   "mimetype": "text/x-python",
   "name": "python",
   "nbconvert_exporter": "python",
   "pygments_lexer": "ipython3",
   "version": "3.5.3"
  }
 },
 "nbformat": 4,
 "nbformat_minor": 2
}
